{
  "cells": [
    {
      "cell_type": "code",
      "execution_count": 3,
      "metadata": {
        "colab": {
          "base_uri": "https://localhost:8080/"
        },
        "id": "bifdJZ4tVwnh",
        "outputId": "1915b889-54da-4472-c1c0-55933292b113"
      },
      "outputs": [
        {
          "name": "stdout",
          "output_type": "stream",
          "text": [
            "Looking in links: https://data.pyg.org/whl/torch-2.1.0+cu121.html\n",
            "Requirement already satisfied: torch-scatter in /system/conda/miniconda3/envs/cloudspace/lib/python3.10/site-packages (2.1.2+pt20cpu)\n"
          ]
        },
        {
          "name": "stdout",
          "output_type": "stream",
          "text": [
            "Note: you may need to restart the kernel to use updated packages.\n"
          ]
        }
      ],
      "source": [
        "pip install torch-scatter -f https://data.pyg.org/whl/torch-2.1.0+cu121.html\n"
      ]
    },
    {
      "cell_type": "code",
      "execution_count": 4,
      "metadata": {
        "colab": {
          "base_uri": "https://localhost:8080/"
        },
        "id": "sDfSt37ZV3Y5",
        "outputId": "044ec975-f5a9-45fa-f6d7-6288e9b8c8d3"
      },
      "outputs": [
        {
          "name": "stdout",
          "output_type": "stream",
          "text": [
            "Looking in links: https://data.pyg.org/whl/torch-2.1.0+cu121.html\n",
            "Requirement already satisfied: torch-sparse in /system/conda/miniconda3/envs/cloudspace/lib/python3.10/site-packages (0.6.18+pt20cpu)\n",
            "Requirement already satisfied: scipy in /system/conda/miniconda3/envs/cloudspace/lib/python3.10/site-packages (from torch-sparse) (1.11.4)\n",
            "Requirement already satisfied: numpy<1.28.0,>=1.21.6 in /system/conda/miniconda3/envs/cloudspace/lib/python3.10/site-packages (from scipy->torch-sparse) (1.26.4)\n"
          ]
        },
        {
          "name": "stdout",
          "output_type": "stream",
          "text": [
            "Note: you may need to restart the kernel to use updated packages.\n"
          ]
        }
      ],
      "source": [
        "pip install torch-sparse -f https://data.pyg.org/whl/torch-2.1.0+cu121.html"
      ]
    },
    {
      "cell_type": "code",
      "execution_count": 5,
      "metadata": {
        "colab": {
          "base_uri": "https://localhost:8080/"
        },
        "id": "y6__3AIHV6Sp",
        "outputId": "4e97c58b-ef25-4035-8c34-e0007b3cc08c"
      },
      "outputs": [
        {
          "name": "stdout",
          "output_type": "stream",
          "text": [
            "Requirement already satisfied: torch-geometric in /system/conda/miniconda3/envs/cloudspace/lib/python3.10/site-packages (2.6.1)\n",
            "Requirement already satisfied: aiohttp in /system/conda/miniconda3/envs/cloudspace/lib/python3.10/site-packages (from torch-geometric) (3.11.14)\n",
            "Requirement already satisfied: fsspec in /system/conda/miniconda3/envs/cloudspace/lib/python3.10/site-packages (from torch-geometric) (2025.3.0)\n",
            "Requirement already satisfied: jinja2 in /system/conda/miniconda3/envs/cloudspace/lib/python3.10/site-packages (from torch-geometric) (3.1.6)\n",
            "Requirement already satisfied: numpy in /system/conda/miniconda3/envs/cloudspace/lib/python3.10/site-packages (from torch-geometric) (1.26.4)\n",
            "Requirement already satisfied: psutil>=5.8.0 in /system/conda/miniconda3/envs/cloudspace/lib/python3.10/site-packages (from torch-geometric) (7.0.0)\n",
            "Requirement already satisfied: pyparsing in /system/conda/miniconda3/envs/cloudspace/lib/python3.10/site-packages (from torch-geometric) (3.2.1)\n",
            "Requirement already satisfied: requests in /system/conda/miniconda3/envs/cloudspace/lib/python3.10/site-packages (from torch-geometric) (2.32.3)\n",
            "Requirement already satisfied: tqdm in /system/conda/miniconda3/envs/cloudspace/lib/python3.10/site-packages (from torch-geometric) (4.67.1)\n",
            "Requirement already satisfied: aiohappyeyeballs>=2.3.0 in /system/conda/miniconda3/envs/cloudspace/lib/python3.10/site-packages (from aiohttp->torch-geometric) (2.6.1)\n",
            "Requirement already satisfied: aiosignal>=1.1.2 in /system/conda/miniconda3/envs/cloudspace/lib/python3.10/site-packages (from aiohttp->torch-geometric) (1.3.2)\n",
            "Requirement already satisfied: async-timeout<6.0,>=4.0 in /system/conda/miniconda3/envs/cloudspace/lib/python3.10/site-packages (from aiohttp->torch-geometric) (5.0.1)\n",
            "Requirement already satisfied: attrs>=17.3.0 in /system/conda/miniconda3/envs/cloudspace/lib/python3.10/site-packages (from aiohttp->torch-geometric) (25.3.0)\n",
            "Requirement already satisfied: frozenlist>=1.1.1 in /system/conda/miniconda3/envs/cloudspace/lib/python3.10/site-packages (from aiohttp->torch-geometric) (1.5.0)\n",
            "Requirement already satisfied: multidict<7.0,>=4.5 in /system/conda/miniconda3/envs/cloudspace/lib/python3.10/site-packages (from aiohttp->torch-geometric) (6.2.0)\n",
            "Requirement already satisfied: propcache>=0.2.0 in /system/conda/miniconda3/envs/cloudspace/lib/python3.10/site-packages (from aiohttp->torch-geometric) (0.3.0)\n",
            "Requirement already satisfied: yarl<2.0,>=1.17.0 in /system/conda/miniconda3/envs/cloudspace/lib/python3.10/site-packages (from aiohttp->torch-geometric) (1.18.3)\n",
            "Requirement already satisfied: MarkupSafe>=2.0 in /system/conda/miniconda3/envs/cloudspace/lib/python3.10/site-packages (from jinja2->torch-geometric) (3.0.2)\n",
            "Requirement already satisfied: charset-normalizer<4,>=2 in /system/conda/miniconda3/envs/cloudspace/lib/python3.10/site-packages (from requests->torch-geometric) (3.4.1)\n",
            "Requirement already satisfied: idna<4,>=2.5 in /system/conda/miniconda3/envs/cloudspace/lib/python3.10/site-packages (from requests->torch-geometric) (3.10)\n",
            "Requirement already satisfied: urllib3<3,>=1.21.1 in /system/conda/miniconda3/envs/cloudspace/lib/python3.10/site-packages (from requests->torch-geometric) (2.3.0)\n",
            "Requirement already satisfied: certifi>=2017.4.17 in /system/conda/miniconda3/envs/cloudspace/lib/python3.10/site-packages (from requests->torch-geometric) (2025.1.31)\n",
            "Requirement already satisfied: typing-extensions>=4.1.0 in /system/conda/miniconda3/envs/cloudspace/lib/python3.10/site-packages (from multidict<7.0,>=4.5->aiohttp->torch-geometric) (4.12.2)\n",
            "Note: you may need to restart the kernel to use updated packages.\n"
          ]
        }
      ],
      "source": [
        "pip install torch-geometric"
      ]
    },
    {
      "cell_type": "code",
      "execution_count": null,
      "metadata": {},
      "outputs": [
        {
          "name": "stdout",
          "output_type": "stream",
          "text": [
            "SVO extraction completed. File saved to node_embeddings_svo.csv\n"
          ]
        }
      ],
      "source": [
        "import spacy\n",
        "import pandas as pd\n",
        "\n",
        "nlp = spacy.load(\"en_core_web_sm\")\n",
        "\n",
        "\n",
        "def extract_svo(clause):\n",
        "    doc = nlp(clause)\n",
        "    subject, verb, obj = \"\", \"\", \"\"\n",
        "\n",
        "    for token in doc:\n",
        "        if token.dep_ == \"nsubj\" and subject == \"\":\n",
        "            subject = token.text\n",
        "        elif token.pos_ == \"VERB\" and verb == \"\":\n",
        "            verb = token.lemma_\n",
        "        elif token.dep_ in (\"dobj\", \"pobj\", \"attr\") and obj == \"\":\n",
        "            obj = token.text\n",
        "\n",
        "    return subject, verb, obj\n",
        "\n",
        "df = pd.read_csv(\"node_embeddings3.csv\", on_bad_lines = 'skip')  # adjust path as needed\n",
        "\n",
        "df[[\"subject\", \"verb\", \"object\"]] = df[\"clause\"].apply(lambda text: pd.Series(extract_svo(str(text))))\n",
        "output_path = \"node_embeddings_svo.csv\"\n",
        "df.to_csv(output_path, index=False)\n",
        "print(f\"SVO extraction completed. File saved to {output_path}\")"
      ]
    },
    {
      "cell_type": "code",
      "execution_count": null,
      "metadata": {},
      "outputs": [
        {
          "name": "stdout",
          "output_type": "stream",
          "text": [
            "SVO extraction completed. File saved to node_embeddings_svo_test.csv\n"
          ]
        }
      ],
      "source": [
        "import spacy\n",
        "import pandas as pd\n",
        "\n",
        "nlp = spacy.load(\"en_core_web_sm\")\n",
        "\n",
        "\n",
        "def extract_svo(clause):\n",
        "    doc = nlp(clause)\n",
        "    subject, verb, obj = \"\", \"\", \"\"\n",
        "\n",
        "    for token in doc:\n",
        "        if token.dep_ == \"nsubj\" and subject == \"\":\n",
        "            subject = token.text\n",
        "        elif token.pos_ == \"VERB\" and verb == \"\":\n",
        "            verb = token.lemma_\n",
        "        elif token.dep_ in (\"dobj\", \"pobj\", \"attr\") and obj == \"\":\n",
        "            obj = token.text\n",
        "\n",
        "    return subject, verb, obj\n",
        "\n",
        "df = pd.read_csv(\"node_embeddings_test3.csv\", on_bad_lines = 'skip')  # adjust path as needed\n",
        "\n",
        "df[[\"subject\", \"verb\", \"object\"]] = df[\"clause\"].apply(lambda text: pd.Series(extract_svo(str(text))))\n",
        "output_path = \"node_embeddings_svo_test.csv\"\n",
        "df.to_csv(output_path, index=False)\n",
        "print(f\"SVO extraction completed. File saved to {output_path}\")"
      ]
    },
    {
      "cell_type": "code",
      "execution_count": null,
      "metadata": {
        "id": "ODOg841Fi5Z7"
      },
      "outputs": [
        {
          "name": "stdout",
          "output_type": "stream",
          "text": [
            "Epoch 1, Loss: 1.3896\n",
            "Epoch 2, Loss: 1.3775\n",
            "Epoch 3, Loss: 1.3621\n",
            "Epoch 4, Loss: 1.3523\n",
            "Epoch 5, Loss: 1.3338\n",
            "Epoch 6, Loss: 1.3206\n",
            "Epoch 7, Loss: 1.3071\n",
            "Epoch 8, Loss: 1.2881\n",
            "Epoch 9, Loss: 1.2735\n",
            "Epoch 10, Loss: 1.2655\n",
            "Epoch 11, Loss: 1.2509\n",
            "Epoch 12, Loss: 1.2388\n",
            "Epoch 13, Loss: 1.2323\n",
            "Epoch 14, Loss: 1.2127\n",
            "Epoch 15, Loss: 1.2037\n",
            "Epoch 16, Loss: 1.2023\n",
            "Epoch 17, Loss: 1.1892\n",
            "Epoch 18, Loss: 1.1768\n",
            "Epoch 19, Loss: 1.1780\n",
            "Epoch 20, Loss: 1.1696\n",
            "Epoch 21, Loss: 1.1618\n",
            "Epoch 22, Loss: 1.1443\n",
            "Epoch 23, Loss: 1.1417\n",
            "Epoch 24, Loss: 1.1367\n",
            "Epoch 25, Loss: 1.1272\n",
            "Epoch 26, Loss: 1.1309\n",
            "Epoch 27, Loss: 1.1310\n",
            "Epoch 28, Loss: 1.1185\n",
            "Epoch 29, Loss: 1.1143\n",
            "Epoch 30, Loss: 1.1067\n",
            "Epoch 31, Loss: 1.1014\n",
            "Epoch 32, Loss: 1.0899\n",
            "Epoch 33, Loss: 1.0951\n",
            "Epoch 34, Loss: 1.0833\n",
            "Epoch 35, Loss: 1.0890\n",
            "Epoch 36, Loss: 1.0846\n",
            "Epoch 37, Loss: 1.0798\n",
            "Epoch 38, Loss: 1.0752\n",
            "Epoch 39, Loss: 1.0648\n",
            "Epoch 40, Loss: 1.0688\n",
            "Epoch 41, Loss: 1.0733\n",
            "Epoch 42, Loss: 1.0590\n",
            "Epoch 43, Loss: 1.0723\n",
            "Epoch 44, Loss: 1.0457\n",
            "Epoch 45, Loss: 1.0561\n",
            "Epoch 46, Loss: 1.0511\n",
            "Epoch 47, Loss: 1.0450\n",
            "Epoch 48, Loss: 1.0394\n",
            "Epoch 49, Loss: 1.0445\n",
            "Epoch 50, Loss: 1.0304\n",
            "Epoch 51, Loss: 1.0364\n",
            "Epoch 52, Loss: 1.0326\n",
            "Epoch 53, Loss: 1.0292\n",
            "Epoch 54, Loss: 1.0240\n",
            "Epoch 55, Loss: 1.0236\n",
            "Epoch 56, Loss: 1.0214\n",
            "Epoch 57, Loss: 1.0249\n",
            "Epoch 58, Loss: 1.0101\n",
            "Epoch 59, Loss: 1.0152\n",
            "Epoch 60, Loss: 1.0054\n",
            "Epoch 61, Loss: 1.0082\n",
            "Epoch 62, Loss: 1.0078\n",
            "Epoch 63, Loss: 0.9988\n",
            "Epoch 64, Loss: 0.9981\n",
            "Epoch 65, Loss: 0.9988\n",
            "Epoch 66, Loss: 0.9893\n",
            "Epoch 67, Loss: 0.9939\n",
            "Epoch 68, Loss: 0.9923\n",
            "Epoch 69, Loss: 0.9926\n",
            "Epoch 70, Loss: 0.9879\n",
            "Epoch 71, Loss: 0.9948\n",
            "Epoch 72, Loss: 0.9825\n",
            "Epoch 73, Loss: 0.9848\n",
            "Epoch 74, Loss: 0.9815\n",
            "Epoch 75, Loss: 0.9811\n",
            "Epoch 76, Loss: 0.9848\n",
            "Epoch 77, Loss: 0.9892\n",
            "Epoch 78, Loss: 0.9734\n",
            "Epoch 79, Loss: 0.9750\n",
            "Epoch 80, Loss: 0.9708\n",
            "Epoch 81, Loss: 0.9759\n",
            "Epoch 82, Loss: 0.9682\n",
            "Epoch 83, Loss: 0.9759\n",
            "Epoch 84, Loss: 0.9742\n",
            "Epoch 85, Loss: 0.9682\n",
            "Epoch 86, Loss: 0.9741\n",
            "Epoch 87, Loss: 0.9899\n",
            "Epoch 88, Loss: 0.9760\n",
            "Epoch 89, Loss: 1.0075\n",
            "Epoch 90, Loss: 0.9584\n",
            "Epoch 91, Loss: 0.9595\n",
            "Epoch 92, Loss: 0.9792\n",
            "Epoch 93, Loss: 0.9576\n",
            "Epoch 94, Loss: 0.9488\n",
            "Epoch 95, Loss: 0.9548\n",
            "Epoch 96, Loss: 0.9617\n",
            "Epoch 97, Loss: 0.9580\n",
            "Epoch 98, Loss: 0.9535\n",
            "Epoch 99, Loss: 0.9526\n",
            "Epoch 100, Loss: 0.9466\n",
            "\n",
            "Classification Report:\n",
            "              precision    recall  f1-score   support\n",
            "\n",
            "     emotion       0.22      0.43      0.29       113\n",
            "       cause       0.10      0.12      0.11        41\n",
            "     neither       0.59      0.23      0.33       225\n",
            "        both       0.25      0.29      0.27       121\n",
            "\n",
            "    accuracy                           0.28       500\n",
            "   macro avg       0.29      0.27      0.25       500\n",
            "weighted avg       0.38      0.28      0.29       500\n",
            "\n",
            "✅ Predictions saved to 'test_predictions.csv'\n"
          ]
        }
      ],
      "source": [
        "import pandas as pd\n",
        "import torch\n",
        "from torch_geometric.data import Data\n",
        "from torch_geometric.nn import GCNConv\n",
        "import torch.nn.functional as F\n",
        "from sklearn.metrics import classification_report\n",
        "\n",
        "\n",
        "df = pd.read_csv(\"node_embeddings_svo.csv\", on_bad_lines='skip')\n",
        "def parse_embedding(e):\n",
        "    return list(map(float, e.split(',')))\n",
        "\n",
        "x = torch.tensor([parse_embedding(e) for e in df['embedding']], dtype=torch.float)\n",
        "\n",
        "label_map = {'emotion': 0, 'cause': 1, 'neither': 2, 'both': 3}\n",
        "y = torch.tensor([\n",
        "    label_map.get(str(l).strip().lower(), 2)  # Default to 'neither' if unknown\n",
        "    for l in df['emotion_type']\n",
        "], dtype=torch.long)\n",
        "\n",
        "edge_index = []\n",
        "for i, row_i in df.iterrows():\n",
        "    for j, row_j in df.iterrows():\n",
        "        if i == j:\n",
        "            continue\n",
        "        if row_i['verb'] == row_j['verb']:\n",
        "            edge_index.append([i, j])\n",
        "        if row_i['object'] == row_j['subject']:\n",
        "            edge_index.append([i, j])\n",
        "edge_index = torch.tensor(edge_index, dtype=torch.long).T\n",
        "\n",
        "data = Data(x=x, edge_index=edge_index, y=y)\n",
        "\n",
        "class DyGCN(torch.nn.Module):\n",
        "    def __init__(self, in_channels, hidden_channels, num_classes):\n",
        "        super(DyGCN, self).__init__()\n",
        "        self.conv1 = GCNConv(in_channels, hidden_channels)\n",
        "        self.conv2 = GCNConv(hidden_channels, num_classes)\n",
        "\n",
        "    def forward(self, data):\n",
        "        x, edge_index = data.x, data.edge_index\n",
        "        x = F.relu(self.conv1(x, edge_index))\n",
        "        x = self.conv2(x, edge_index)\n",
        "        return x\n",
        "\n",
        "import pandas as pd\n",
        "import torch\n",
        "import torch.nn.functional as F\n",
        "from torch_geometric.data import Data\n",
        "from sklearn.metrics import classification_report\n",
        "from sklearn.utils.class_weight import compute_class_weight\n",
        "import numpy as np\n",
        "from torch import nn\n",
        "from torch_geometric.nn import GCNConv\n",
        "\n",
        "def parse_embedding(embedding_str):\n",
        "    return [float(x) for x in embedding_str.strip(\"[]\").split(',')]\n",
        "\n",
        "train_df = pd.read_csv(\"node_embeddings_svo.csv\", on_bad_lines='skip')\n",
        "\n",
        "label_map = {\n",
        "    \"emotion\": 0,\n",
        "    \"cause\": 1,\n",
        "    \"neither\": 2,\n",
        "    \"both\": 3\n",
        "}\n",
        "\n",
        "x = torch.tensor([parse_embedding(e) for e in train_df['embedding']], dtype=torch.float)\n",
        "y = torch.tensor([\n",
        "    label_map.get(str(l).strip().lower(), 2)\n",
        "    for l in train_df['emotion_type']\n",
        "], dtype=torch.long)\n",
        "\n",
        "edge_index = []\n",
        "for i, row_i in train_df.iterrows():\n",
        "    for j, row_j in train_df.iterrows():\n",
        "        if i == j:\n",
        "            continue\n",
        "        if row_i['verb'] == row_j['verb']:\n",
        "            edge_index.append([i, j])\n",
        "        if row_i['object'] == row_j['subject']:\n",
        "            edge_index.append([i, j])\n",
        "edge_index = torch.tensor(edge_index, dtype=torch.long).T\n",
        "\n",
        "data = Data(x=x, edge_index=edge_index, y=y)\n",
        "\n",
        "test_df = pd.read_csv(\"node_embeddings_svo_test.csv\", on_bad_lines='skip')\n",
        "x_test = torch.tensor([parse_embedding(e) for e in test_df['embedding']], dtype=torch.float)\n",
        "y_test = torch.tensor([\n",
        "    label_map.get(str(l).strip().lower(), 2)\n",
        "    for l in test_df['emotion_type']\n",
        "], dtype=torch.long)\n",
        "\n",
        "edge_index_test = []\n",
        "for i, row_i in test_df.iterrows():\n",
        "    for j, row_j in test_df.iterrows():\n",
        "        if i == j:\n",
        "            continue\n",
        "        if row_i['verb'] == row_j['verb']:\n",
        "            edge_index_test.append([i, j])\n",
        "        if row_i['object'] == row_j['subject']:\n",
        "            edge_index_test.append([i, j])\n",
        "edge_index_test = torch.tensor(edge_index_test, dtype=torch.long).T\n",
        "\n",
        "test_data = Data(x=x_test, edge_index=edge_index_test, y=y_test)\n",
        "\n",
        "device = torch.device('cuda' if torch.cuda.is_available() else 'cpu')\n",
        "data = data.to(device)\n",
        "test_data = test_data.to(device)\n",
        "\n",
        "class DyGCN(nn.Module):\n",
        "    def __init__(self, in_channels, hidden_channels, num_classes):\n",
        "        super(DyGCN, self).__init__()\n",
        "        self.conv1 = GCNConv(in_channels, hidden_channels)\n",
        "        self.conv2 = GCNConv(hidden_channels, num_classes)\n",
        "\n",
        "    def forward(self, data):\n",
        "        x, edge_index = data.x, data.edge_index\n",
        "        x = self.conv1(x, edge_index)\n",
        "        x = F.relu(x)\n",
        "        x = F.dropout(x, training=self.training, p=0.5)\n",
        "        x = self.conv2(x, edge_index)\n",
        "        return x\n",
        "\n",
        "model = DyGCN(in_channels=x.shape[1], hidden_channels=64, num_classes=4).to(device)\n",
        "optimizer = torch.optim.Adam(model.parameters(), lr=0.01)\n",
        "\n",
        "class_weights = compute_class_weight(\n",
        "    class_weight='balanced',\n",
        "    classes=np.unique(y.cpu().numpy()),\n",
        "    y=y.cpu().numpy()\n",
        ")\n",
        "class_weights_tensor = torch.tensor(class_weights, dtype=torch.float).to(device)\n",
        "loss_fn = torch.nn.CrossEntropyLoss(weight=class_weights_tensor)\n",
        "\n",
        "for epoch in range(100):\n",
        "    model.train()\n",
        "    optimizer.zero_grad()\n",
        "    out = model(data)\n",
        "    loss = loss_fn(out, data.y)\n",
        "    loss.backward()\n",
        "    optimizer.step()\n",
        "    print(f\"Epoch {epoch+1}, Loss: {loss.item():.4f}\")\n",
        "\n",
        "model.eval()\n",
        "with torch.no_grad():\n",
        "    pred = model(test_data).argmax(dim=1)\n",
        "\n",
        "target_names = ['emotion', 'cause', 'neither', 'both']\n",
        "print(\"\\nClassification Report:\")\n",
        "print(classification_report(test_data.y.cpu(), pred.cpu(), target_names=target_names))\n",
        "test_df['predicted_label'] = pred.cpu().numpy()\n",
        "test_df['predicted_class'] = test_df['predicted_label'].apply(lambda x: target_names[x])\n",
        "test_df['true_label'] = test_data.y.cpu().numpy()\n",
        "test_df['true_class'] = test_df['true_label'].apply(lambda x: target_names[x])\n",
        "test_df.to_csv(\"test_predictions.csv\", index=False)\n",
        "print(\"✅ Predictions saved to 'test_predictions.csv'\")\n",
        "\n"
      ]
    },
    {
      "cell_type": "code",
      "execution_count": null,
      "metadata": {
        "id": "TKBY5lGti7-H"
      },
      "outputs": [],
      "source": [
        "torch.save(model.state_dict(), 'dygcn_emotion_model.pt')\n"
      ]
    },
    {
      "cell_type": "code",
      "execution_count": null,
      "metadata": {
        "id": "odFYwvmCi96O"
      },
      "outputs": [
        {
          "data": {
            "image/png": "[encoded data removed]",
            "text/plain": [
              "<Figure size 1000x600 with 1 Axes>"
            ]
          },
          "metadata": {},
          "output_type": "display_data"
        }
      ],
      "source": [
        "from sklearn.metrics import classification_report\n",
        "import matplotlib.pyplot as plt\n",
        "import pandas as pd\n",
        "\n",
        "report_dict = classification_report(test_data.y.cpu(), pred.cpu(), target_names=['emotion', 'cause', 'neither', 'both'], output_dict=True)\n",
        "report_df = pd.DataFrame(report_dict).T\n",
        "\n",
        "class_metrics = report_df.loc[['emotion', 'cause', 'neither', 'both'], ['precision', 'recall', 'f1-score']]\n",
        "class_metrics.plot(kind='bar', figsize=(10, 6))\n",
        "plt.title(\"Precision, Recall, F1-score per Class\")\n",
        "plt.ylabel(\"Score\")\n",
        "plt.ylim(0, 1)\n",
        "plt.xticks(rotation=0)\n",
        "plt.grid(axis='y')\n",
        "plt.legend(loc='lower right')\n",
        "plt.tight_layout()\n",
        "plt.show()\n"
      ]
    }
  ],
  "metadata": {
    "accelerator": "TPU",
    "colab": {
      "gpuType": "V28",
      "provenance": []
    },
    "kernelspec": {
      "display_name": "Python 3",
      "name": "python3"
    },
    "language_info": {
      "name": "python"
    }
  },
  "nbformat": 4,
  "nbformat_minor": 0
}
