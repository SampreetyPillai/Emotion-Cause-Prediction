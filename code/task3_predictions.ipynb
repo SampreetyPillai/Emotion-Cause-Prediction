{
 "cells": [
  {
   "cell_type": "code",
   "execution_count": null,
   "metadata": {},
   "outputs": [
    {
     "name": "stdout",
     "output_type": "stream",
     "text": [
      "            id                                          clause speaker  \\\n",
      "0  tr_9708_1_1                      The blake's got divorced .       A   \n",
      "1  tr_9708_2_1                                        Really ?       B   \n",
      "2  tr_9708_2_2                                           Why ?       B   \n",
      "3  tr_9708_3_1                                            Mr .       A   \n",
      "4  tr_9708_3_2  black has been getting a little around aside .       A   \n",
      "\n",
      "   predicted_label predicted_class  true_label true_class  \n",
      "0                2         neither           2    neither  \n",
      "1                0         emotion           2    neither  \n",
      "2                0         emotion           2    neither  \n",
      "3                3            both           2    neither  \n",
      "4                0         emotion           2    neither  \n"
     ]
    }
   ],
   "source": [
    "import pandas as pd\n",
    "\n",
    "test_predictions_df = pd.read_csv(\"test_predictions.csv\")\n",
    "\n",
    "columns_to_drop = ['embedding', 'detected_emotion', 'subject', 'verb', 'object', 'emotion_type']\n",
    "test_predictions_df = test_predictions_df.drop(columns=columns_to_drop, errors='ignore')\n",
    "\n",
    "print(test_predictions_df.head())\n",
    "\n"
   ]
  },
  {
   "cell_type": "code",
   "execution_count": 9,
   "metadata": {},
   "outputs": [],
   "source": [
    "test_predictions_df.to_csv(\"test_predictions.csv\", index=False)"
   ]
  },
  {
   "cell_type": "code",
   "execution_count": null,
   "metadata": {},
   "outputs": [
    {
     "name": "stdout",
     "output_type": "stream",
     "text": [
      "                            id  \\\n",
      "0  tr_9708_5_4 --> tr_9708_6_1   \n",
      "1  tr_9708_6_1 --> tr_9708_6_2   \n",
      "2  tr_9708_8_3 --> tr_9708_9_1   \n",
      "3    te_935_1_1 --> te_935_2_1   \n",
      "4    te_935_2_1 --> te_935_2_2   \n",
      "\n",
      "                                             emotion  \\\n",
      "0                      Well , I'm really surprised .   \n",
      "1  You are not doing anything behind my back , ar...   \n",
      "2                         You are not funny either .   \n",
      "3                                             Cool !   \n",
      "4                                 Flashy red lines !   \n",
      "\n",
      "                                               cause  speaker  \n",
      "0  Starting almost right after they married 20 ye...  A --> B  \n",
      "1                      Well , I'm really surprised .  B --> B  \n",
      "2  I guess that means - - except me to tell my lo...  B --> A  \n",
      "3                  I'm so glad I bought this watch !  A --> B  \n",
      "4                                             Cool !  B --> B  \n"
     ]
    }
   ],
   "source": [
    "import pandas as pd\n",
    "\n",
    "test_predictions_df = pd.read_csv(\"test_predictions.csv\")\n",
    "pairs = []\n",
    "previous_clause = None\n",
    "previous_conv_id = None\n",
    "\n",
    "for i, row in test_predictions_df.iterrows():\n",
    "    clause_id = row['id']\n",
    "    clause = row['clause']\n",
    "    speaker = row['speaker']\n",
    "    predicted_class = row['true_class']\n",
    "    conv_id = clause_id.split('_')[0]  \n",
    "\n",
    "    if previous_conv_id != conv_id:\n",
    "        previous_clause = None\n",
    "        previous_conv_id = conv_id\n",
    "\n",
    "    if predicted_class == 'emotion' and previous_clause is not None and previous_conv_id == conv_id:\n",
    "        pairs.append({\n",
    "            'id': previous_clause['id'] + \" --> \" + clause_id,\n",
    "            'emotion': clause,  \n",
    "            'cause': previous_clause['clause'],  \n",
    "            'speaker': previous_clause['speaker'] + \" --> \" + speaker\n",
    "        })\n",
    "        \n",
    "        previous_clause = None\n",
    "    elif predicted_class == 'both':\n",
    "        if previous_clause is not None:\n",
    "            pairs.append({\n",
    "                'id': previous_clause['id'] + \" --> \" + clause_id,\n",
    "                'emotion': clause,  \n",
    "                'cause': previous_clause['clause'],  \n",
    "                'speaker': previous_clause['speaker'] + \" --> \" + speaker\n",
    "            })\n",
    "        previous_clause = row\n",
    "        previous_conv_id = conv_id\n",
    "    elif predicted_class == 'cause':\n",
    "        previous_clause = row\n",
    "        previous_conv_id = conv_id\n",
    "\n",
    "pairs_df = pd.DataFrame(pairs)\n",
    "\n",
    "pairs_df.to_csv(\"emotion_cause_pairs.csv\", index=False)\n",
    "print(pairs_df.head())\n",
    "\n",
    "\n"
   ]
  }
 ],
 "metadata": {
  "language_info": {
   "name": "python"
  }
 },
 "nbformat": 4,
 "nbformat_minor": 2
}
